{
 "cells": [
  {
   "cell_type": "code",
   "execution_count": null,
   "metadata": {},
   "outputs": [],
   "source": [
    "import sys\n",
    "\n",
    "file = open(sys.argv[1],\"r\")\n",
    "strcount= []\n",
    "while True:\n",
    "    line = file.readline()\n",
    "    if line == \"\":\n",
    "        break\n",
    "    else:\n",
    "        strcount.append(int(line.replace(\"\\n\",\"\")))\n",
    "        \n",
    "file = open(sys.argv[2],\"r\")\n",
    "genomelength= int(file.readline().replace(\"\\n\",\"\"))\n",
    "\n",
    "        \n",
    "file = open(sys.argv[3],\"r\")\n",
    "strbase= int(file.readline().replace(\"\\n\",\"\"))\n",
    "\n",
    "file = open(sys.argv[4],\"r\")\n",
    "species_name= file.readline().replace(\"\\n\",\"\")\n",
    "\n",
    "filename = sys.argv[5]\n",
    "filepath = \"/storage/mgymrek/TReeofLife/SnakemakeTest/\"+filename"
   ]
  },
  {
   "cell_type": "code",
   "execution_count": null,
   "metadata": {},
   "outputs": [],
   "source": [
    "strpercent = []\n",
    "for i in range(0,len(strcount)):\n",
    "    strpercent[i]=strcount[i]/strbase"
   ]
  },
  {
   "cell_type": "code",
   "execution_count": null,
   "metadata": {},
   "outputs": [],
   "source": [
    "strnumsum = sum(strcount)"
   ]
  },
  {
   "cell_type": "code",
   "execution_count": null,
   "metadata": {},
   "outputs": [],
   "source": [
    "row = []\n",
    "for i in strcount:\n",
    "    row.append(i)\n",
    "for k in strpercent:\n",
    "    row.append(k)\n",
    "row.append(genomelength)\n",
    "row.append(strbase)\n",
    "row.append(strbase/genomelength)\n",
    "row.append(strnumsum)\n",
    "row.append(strnumsum/genomelength)\n",
    "row.append(genomelength)\n",
    "row.append(genomelength)"
   ]
  },
  {
   "cell_type": "code",
   "execution_count": null,
   "metadata": {},
   "outputs": [],
   "source": [
    "with open(filepath, 'w') as csvfile:  \n",
    "    csvwriter = csv.writer(csvfile,delimiter=',')  \n",
    "    csvwriter.writerows(zip(species_name,row = [])) "
   ]
  }
 ],
 "metadata": {
  "kernelspec": {
   "display_name": "Python 3",
   "language": "python",
   "name": "python3"
  },
  "language_info": {
   "codemirror_mode": {
    "name": "ipython",
    "version": 3
   },
   "file_extension": ".py",
   "mimetype": "text/x-python",
   "name": "python",
   "nbconvert_exporter": "python",
   "pygments_lexer": "ipython3",
   "version": "3.8.5"
  }
 },
 "nbformat": 4,
 "nbformat_minor": 4
}
